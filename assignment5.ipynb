{
 "cells": [
  {
   "cell_type": "code",
   "execution_count": 55,
   "metadata": {},
   "outputs": [],
   "source": [
    "import numpy as np\n",
    "import pandas as pd\n",
    "from sklearn.preprocessing import StandardScaler\n",
    "from sklearn.model_selection import StratifiedKFold\n",
    "from sklearn.metrics import roc_auc_score"
   ]
  },
  {
   "cell_type": "code",
   "execution_count": 56,
   "metadata": {},
   "outputs": [],
   "source": [
    "# Define the KNN class\n",
    "class KNN:\n",
    "    def __init__(self, k=3, distance_metric='euclidean'):\n",
    "        self.k = k\n",
    "        self.distance_metric = distance_metric\n",
    "        self.X_train = None\n",
    "        self.y_train = None\n",
    "\n",
    "    def fit(self, X, y):\n",
    "        self.X_train = X\n",
    "        self.y_train = y\n",
    "        return self\n",
    "\n",
    "    def predict(self, X):\n",
    "        predictions = []\n",
    "        for sample in X:\n",
    "            distances = self.compute_distance(sample, self.X_train)\n",
    "            k_indices = np.argsort(distances)[:self.k]\n",
    "            k_nearest_labels = self.y_train[k_indices]\n",
    "            prediction = np.mean(k_nearest_labels)\n",
    "            predictions.append(prediction)\n",
    "        return np.array(predictions)\n",
    "\n",
    "    def compute_distance(self, X1, X2):\n",
    "        if self.distance_metric == 'euclidean':\n",
    "            return np.sqrt(np.sum((X1 - X2)**2, axis=1))\n",
    "        elif self.distance_metric == 'manhattan':\n",
    "            return np.sum(np.abs(X1 - X2), axis=1)\n",
    "        else:\n",
    "            raise ValueError(\"Unsupported distance metric\")\n"
   ]
  },
  {
   "cell_type": "code",
   "execution_count": 57,
   "metadata": {},
   "outputs": [],
   "source": [
    "# Define data preprocessing function\n",
    "def preprocess_data(train_path, test_path):\n",
    "    train_data = pd.read_csv(train_path)\n",
    "    test_data = pd.read_csv(test_path)\n",
    "\n",
    "    # Handle categorical variables\n",
    "    categorical_cols = ['Geography', 'Gender']\n",
    "    train_data = pd.get_dummies(train_data, columns=categorical_cols, drop_first=True)\n",
    "    test_data = pd.get_dummies(test_data, columns=categorical_cols, drop_first=True)\n",
    "\n",
    "    # Separate features and target for train data\n",
    "    X = train_data.drop(['Exited', 'id', 'CustomerId', 'Surname'], axis=1)\n",
    "    y = train_data['Exited']\n",
    "\n",
    "    # Prepare test data\n",
    "    X_test = test_data.drop(['id', 'CustomerId', 'Surname'], axis=1)\n",
    "\n",
    "    # Ensure test data has all columns present in train data\n",
    "    for col in X.columns:\n",
    "        if col not in X_test.columns:\n",
    "            X_test[col] = 0\n",
    "\n",
    "    # Align columns\n",
    "    X_test = X_test[X.columns]\n",
    "\n",
    "    # Scale features\n",
    "    scaler = StandardScaler()\n",
    "    X_scaled = scaler.fit_transform(X)\n",
    "    X_test_scaled = scaler.transform(X_test)\n",
    "\n",
    "    return X_scaled, y.values, X_test_scaled\n"
   ]
  },
  {
   "cell_type": "code",
   "execution_count": 58,
   "metadata": {},
   "outputs": [],
   "source": [
    "# Define cross-validation function\n",
    "def cross_validate(X, y, knn, n_splits=5):\n",
    "    skf = StratifiedKFold(n_splits=n_splits, shuffle=True, random_state=42)\n",
    "    scores = []\n",
    "\n",
    "    for train_index, val_index in skf.split(X, y):\n",
    "        X_train, X_val = X[train_index], X[val_index]\n",
    "        y_train, y_val = y[train_index], y[val_index]\n",
    "\n",
    "        knn.fit(X_train, y_train)\n",
    "        y_pred = knn.predict(X_val)\n",
    "        score = roc_auc_score(y_val, y_pred)\n",
    "        scores.append(score)\n",
    "\n",
    "    return np.array(scores)"
   ]
  },
  {
   "cell_type": "code",
   "execution_count": 69,
   "metadata": {},
   "outputs": [
    {
     "name": "stdout",
     "output_type": "stream",
     "text": [
      "k=21, metric=euclidean, Average ROC AUC: 0.9023181512474663\n",
      "k=21, metric=manhattan, Average ROC AUC: 0.9026619698411809\n",
      "k=23, metric=euclidean, Average ROC AUC: 0.9024231593471855\n",
      "k=23, metric=manhattan, Average ROC AUC: 0.9027298893996537\n",
      "k=25, metric=euclidean, Average ROC AUC: 0.9032117717050794\n",
      "k=25, metric=manhattan, Average ROC AUC: 0.9040758489452555\n",
      "k=27, metric=euclidean, Average ROC AUC: 0.9038545440350971\n",
      "k=27, metric=manhattan, Average ROC AUC: 0.9049324856296138\n",
      "Best parameters: k=27, metric=manhattan\n",
      "Predictions saved to submissions.csv\n"
     ]
    }
   ],
   "source": [
    "# Load and preprocess data\n",
    "X, y, X_test = preprocess_data('datasets/train.csv', 'datasets/test.csv')\n",
    "\n",
    "# Hyperparameter tuning\n",
    "k_values = [21, 23, 25, 27]\n",
    "distance_metrics = ['euclidean', 'manhattan']\n",
    "best_score = 0\n",
    "best_k = 0\n",
    "best_metric = ''\n",
    "\n",
    "for k in k_values:\n",
    "    for metric in distance_metrics:\n",
    "        knn = KNN(k=k, distance_metric=metric)\n",
    "        scores = cross_validate(X, y, knn)\n",
    "        avg_score = np.mean(scores)\n",
    "        print(f\"k={k}, metric={metric}, Average ROC AUC: {avg_score}\")\n",
    "        if avg_score > best_score:\n",
    "            best_score = avg_score\n",
    "            best_k = k\n",
    "            best_metric = metric\n",
    "\n",
    "print(f\"Best parameters: k={best_k}, metric={best_metric}\")\n",
    "\n",
    "# Train on full dataset with optimal hyperparameters\n",
    "knn = KNN(k=best_k, distance_metric=best_metric)\n",
    "knn.fit(X, y)\n",
    "test_predictions = knn.predict(X_test)\n",
    "\n",
    "# Save test predictions\n",
    "test_data = pd.read_csv('datasets/test.csv')\n",
    "pd.DataFrame({'id': test_data['id'], 'Exited': test_predictions}).to_csv('submissions.csv', index=False)\n",
    "\n",
    "print(\"Predictions saved to submissions.csv\")"
   ]
  }
 ],
 "metadata": {
  "kernelspec": {
   "display_name": "Python 3",
   "language": "python",
   "name": "python3"
  },
  "language_info": {
   "codemirror_mode": {
    "name": "ipython",
    "version": 3
   },
   "file_extension": ".py",
   "mimetype": "text/x-python",
   "name": "python",
   "nbconvert_exporter": "python",
   "pygments_lexer": "ipython3",
   "version": "3.12.0"
  }
 },
 "nbformat": 4,
 "nbformat_minor": 2
}
